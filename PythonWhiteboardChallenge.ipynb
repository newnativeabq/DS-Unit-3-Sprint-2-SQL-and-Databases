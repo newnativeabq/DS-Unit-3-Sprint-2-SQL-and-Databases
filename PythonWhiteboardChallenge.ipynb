{
 "cells": [
  {
   "cell_type": "markdown",
   "metadata": {
    "colab_type": "text",
    "id": "G1flIUiHUcNK"
   },
   "source": [
    "## How well do you know Python? Take a shot at the questions below. Some will be answered in code, others will need to be answered in text. Good luck!\n",
    "\n",
    "---\n",
    "\n",
    "\n"
   ]
  },
  {
   "cell_type": "markdown",
   "metadata": {
    "colab_type": "text",
    "id": "nM9hsQiZU8hU"
   },
   "source": [
    "### Question 1: What is Python really? You can (and are encouraged) make comparisons to other technologies in your answer"
   ]
  },
  {
   "cell_type": "markdown",
   "metadata": {
    "colab_type": "text",
    "id": "_nJqM8kHX5Uw"
   },
   "source": [
    "Python is a programming language AND set of common styles in my opinion.  At its core, python is a powerful high-level language abstracting away much of the typing and memory management for scripting tasks in older languages like C, CPP, even Java.  It is without question one of the most advanced languages in development with a rich community of developers and industry contributing libraries for increased functionality.  It's PEP system has been fantastic in dictating common style frameworks across projects, making it easier for new developers to read advanced code.  It's a JIT compiler running on either cython (default) or pypy."
   ]
  },
  {
   "cell_type": "markdown",
   "metadata": {
    "colab_type": "text",
    "id": "2E_Tb3krVcC9"
   },
   "source": [
    "### Question 2: Looking at the below code, write down the final values of A0, A1, ...An.\n",
    "\n",
    "\n"
   ]
  },
  {
   "cell_type": "code",
   "execution_count": 1,
   "metadata": {
    "colab": {},
    "colab_type": "code",
    "id": "x7W-00zFVg3d"
   },
   "outputs": [],
   "source": [
    "A0 = dict(zip(('a','b','c','d','e'),(1,2,3,4,5)))\n",
    "A1 = range(10)\n",
    "A2 = sorted([i for i in A1 if i in A0])\n",
    "A3 = sorted([A0[s] for s in A0])\n",
    "A4 = [i for i in A1 if i in A3]\n",
    "A5 = {i:i*i for i in A1}\n",
    "A6 = [[i,i*i] for i in A1]"
   ]
  },
  {
   "cell_type": "markdown",
   "metadata": {},
   "source": [
    "**A0**: {a:1, b:2...}\n",
    "\n",
    "**A1**: iterable object containing values 0 thru 9\n",
    "\n",
    "**A2**: empty list, matching int to dict keys (a thru e)\n",
    "\n",
    "**A3**: [1,2...5]\n",
    "\n",
    "**A4**: [1,2...5]\n",
    "\n",
    "**A5**: [1:1,2:4,3:9,4:16,...9:81]\n",
    "\n",
    "**A6**:[ [1,1], [2,4], ...[9,81] ]"
   ]
  },
  {
   "cell_type": "markdown",
   "metadata": {
    "colab_type": "text",
    "id": "HyDTqbRwVh-K"
   },
   "source": [
    "### Question 3: Python and multi-threading. Is it a good idea? List some ways to get some Python code to run in a parallel way."
   ]
  },
  {
   "cell_type": "markdown",
   "metadata": {
    "colab_type": "text",
    "id": "O9ypTilYYjGt"
   },
   "source": [
    "Yes. Almost all hardware has freely available resources that can be used during calculation.  Multi-threaded workloads can also be handed to scheduling frameworks and distributed across multiple nodes of computers where single-threaded workloads would only benefit from finding a faster core somewhere.\n",
    "\n",
    "You can accomplish it in general through the python threading library, assigning an operation to .start(), then telling the program to pause until threads complete by having those jobs .join().\n",
    "\n",
    "Some frameworks are natively multithreaded with powerful backends like Keras, Tensorflow, or Dask."
   ]
  },
  {
   "cell_type": "markdown",
   "metadata": {
    "colab_type": "text",
    "id": "wSk1LTI9V6eH"
   },
   "source": [
    "### Question 4: How do you keep track of different versions of your code?\n"
   ]
  },
  {
   "cell_type": "markdown",
   "metadata": {
    "colab_type": "text",
    "id": "RtPFHTRuYuEb"
   },
   "source": [
    "Git seems to work for branches.  Revisions via numbering system (0.0.1 for example) can be assigned as meta values in an init or setup.py file or in docstrings at the header of the module."
   ]
  },
  {
   "cell_type": "markdown",
   "metadata": {
    "colab_type": "text",
    "id": "-gemLXhYWoMZ"
   },
   "source": [
    "### Question 5: Consider the following code, what will it output?\n"
   ]
  },
  {
   "cell_type": "code",
   "execution_count": null,
   "metadata": {
    "colab": {},
    "colab_type": "code",
    "id": "O87tDD98Ws2l"
   },
   "outputs": [],
   "source": [
    "class A(object):\n",
    "    def go(self):\n",
    "        print(\"go A go!\")\n",
    "    def stop(self):\n",
    "        print(\"stop A stop!\")\n",
    "    def pause(self):\n",
    "        raise Exception(\"Not Implemented\")\n",
    "\n",
    "class B(A):\n",
    "    def go(self):\n",
    "        super(B, self).go()\n",
    "        print(\"go B go!\")\n",
    "\n",
    "class C(A):\n",
    "    def go(self):\n",
    "        super(C, self).go()\n",
    "        print(\"go C go!\")\n",
    "    def stop(self):\n",
    "        super(C, self).stop()\n",
    "        print(\"stop C stop!\")\n",
    "\n",
    "class D(B,C):\n",
    "    def go(self):\n",
    "        super(D, self).go()\n",
    "        print(\"go D go!\")\n",
    "    def stop(self):\n",
    "        super(D, self).stop()\n",
    "        print(\"stop D stop!\")\n",
    "    def pause(self):\n",
    "        print(\"wait D wait!\")\n",
    "\n",
    "class E(B,C): pass\n",
    "\n",
    "a = A()\n",
    "b = B()\n",
    "c = C()\n",
    "d = D()\n",
    "e = E()\n",
    "\n",
    "# specify output from here onwards\n",
    "\n",
    "a.go()\n",
    "b.go()\n",
    "c.go()\n",
    "d.go()\n",
    "e.go()\n",
    "\n",
    "a.stop()\n",
    "b.stop()\n",
    "c.stop()\n",
    "d.stop()\n",
    "e.stop()\n",
    "\n",
    "a.pause()\n",
    "b.pause()\n",
    "c.pause()\n",
    "d.pause()\n",
    "e.pause()"
   ]
  },
  {
   "cell_type": "raw",
   "metadata": {
    "colab": {},
    "colab_type": "code",
    "id": "fJpAVbZdzuPw"
   },
   "source": [
    "# Your answer goes here\n",
    "\n",
    "a.go() prints Go A\n",
    "b.go() runs a.go() and then prints Go B\n",
    "c.go() runs a.go() then prings GO C\n",
    "d.go() runs a.go(), b.go(), c.go(), then prints GO D in some order.\n",
    "e.go() one or both b and c go methods\n",
    "\n",
    "a.stop() prints A Stop\n",
    "b.stop() prints A Stop\n",
    "c.stop() rus a.stop(), then prints C Stop\n",
    "d.stop() runs them all, then prints D Stop\n",
    "e.stop() not sure precedence\n",
    "\n",
    "a.pause() raise implementation error\n",
    "b.pause() raise error\n",
    "c.pause() raise error\n",
    "d.pause() print Wait D\n",
    "e.pause() not sure of precedence\n"
   ]
  }
 ],
 "metadata": {
  "colab": {
   "name": "PythonWhiteboardChallenge.ipynb",
   "provenance": [],
   "version": "0.3.2"
  },
  "kernelspec": {
   "display_name": "Python 3",
   "language": "python",
   "name": "python3"
  },
  "language_info": {
   "codemirror_mode": {
    "name": "ipython",
    "version": 3
   },
   "file_extension": ".py",
   "mimetype": "text/x-python",
   "name": "python",
   "nbconvert_exporter": "python",
   "pygments_lexer": "ipython3",
   "version": "3.7.4"
  }
 },
 "nbformat": 4,
 "nbformat_minor": 4
}
